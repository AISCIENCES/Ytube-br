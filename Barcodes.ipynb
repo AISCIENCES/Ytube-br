{
 "cells": [
  {
   "cell_type": "code",
   "execution_count": 13,
   "metadata": {},
   "outputs": [],
   "source": [
    "import barcode\n",
    "from barcode.writer import ImageWriter\n",
    "import pandas as pd\n",
    "from fpdf import FPDF"
   ]
  },
  {
   "cell_type": "code",
   "execution_count": 5,
   "metadata": {},
   "outputs": [],
   "source": [
    "path_to_csv = r\"C:\\Users\\mg\\Desktop\\Barcode Generater\\test barcodes.csv\"\n",
    "path_of_folder = r\"C:\\Users\\mg\\Desktop\\Barcode Generater\\Barcodes\" + chr(92)"
   ]
  },
  {
   "cell_type": "code",
   "execution_count": 31,
   "metadata": {},
   "outputs": [
    {
     "data": {
      "text/html": [
       "<div>\n",
       "<style scoped>\n",
       "    .dataframe tbody tr th:only-of-type {\n",
       "        vertical-align: middle;\n",
       "    }\n",
       "\n",
       "    .dataframe tbody tr th {\n",
       "        vertical-align: top;\n",
       "    }\n",
       "\n",
       "    .dataframe thead th {\n",
       "        text-align: right;\n",
       "    }\n",
       "</style>\n",
       "<table border=\"1\" class=\"dataframe\">\n",
       "  <thead>\n",
       "    <tr style=\"text-align: right;\">\n",
       "      <th></th>\n",
       "      <th>Product ID</th>\n",
       "      <th>Product Name</th>\n",
       "    </tr>\n",
       "  </thead>\n",
       "  <tbody>\n",
       "    <tr>\n",
       "      <th>0</th>\n",
       "      <td>111KmLTHTQ_001_v</td>\n",
       "      <td>ABC</td>\n",
       "    </tr>\n",
       "    <tr>\n",
       "      <th>1</th>\n",
       "      <td>11150WzSjc_001_v</td>\n",
       "      <td>DEF</td>\n",
       "    </tr>\n",
       "    <tr>\n",
       "      <th>2</th>\n",
       "      <td>111Jt1RclQ_001_v</td>\n",
       "      <td>GHI</td>\n",
       "    </tr>\n",
       "    <tr>\n",
       "      <th>3</th>\n",
       "      <td>111lZbCYdQ_001_v</td>\n",
       "      <td>JKL</td>\n",
       "    </tr>\n",
       "    <tr>\n",
       "      <th>4</th>\n",
       "      <td>111gnccCrQ_001_v</td>\n",
       "      <td>MNO</td>\n",
       "    </tr>\n",
       "  </tbody>\n",
       "</table>\n",
       "</div>"
      ],
      "text/plain": [
       "         Product ID Product Name\n",
       "0  111KmLTHTQ_001_v          ABC\n",
       "1  11150WzSjc_001_v          DEF\n",
       "2  111Jt1RclQ_001_v          GHI\n",
       "3  111lZbCYdQ_001_v          JKL\n",
       "4  111gnccCrQ_001_v          MNO"
      ]
     },
     "execution_count": 31,
     "metadata": {},
     "output_type": "execute_result"
    }
   ],
   "source": [
    "Code128 = barcode.get_barcode_class('code128')\n",
    "\n",
    "\n",
    "\n",
    "df = pd.read_csv(path_to_csv)\n",
    "df.head()\n",
    "\n",
    "\n",
    "\n"
   ]
  },
  {
   "cell_type": "code",
   "execution_count": 36,
   "metadata": {},
   "outputs": [
    {
     "data": {
      "text/plain": [
       "''"
      ]
     },
     "execution_count": 36,
     "metadata": {},
     "output_type": "execute_result"
    }
   ],
   "source": [
    "pdf = FPDF('P', 'mm', 'A4')\n",
    "pdf.set_font('Arial', 'B', 14)\n",
    "pdf.add_page()\n",
    "x,y,w,h = 5,5, 50, 35\n",
    "\n",
    "for index, row in df.iterrows():\n",
    "    bar_code = row['Product ID']\n",
    "    bar_text = row['Product Name']\n",
    "    \n",
    "    code128 = Code128(bar_code, writer = ImageWriter())\n",
    "    code128.save(path_of_folder + 'temp_barcode')\n",
    "    pdf.image(path_of_folder + 'temp_barcode.png', x,y,w,h)\n",
    "    pdf.text(x+w+20, y+h/2, txt = bar_text)\n",
    "    pdf.rect(x, y, x+w+70, h, style = '')\n",
    "    \n",
    "    y = y+h+5\n",
    "    \n",
    "pdf.output(\"Barcodes testing.pdf\", 'F')"
   ]
  },
  {
   "cell_type": "code",
   "execution_count": null,
   "metadata": {},
   "outputs": [],
   "source": []
  },
  {
   "cell_type": "code",
   "execution_count": null,
   "metadata": {},
   "outputs": [],
   "source": []
  },
  {
   "cell_type": "code",
   "execution_count": null,
   "metadata": {},
   "outputs": [],
   "source": []
  },
  {
   "cell_type": "code",
   "execution_count": null,
   "metadata": {},
   "outputs": [],
   "source": []
  },
  {
   "cell_type": "code",
   "execution_count": null,
   "metadata": {},
   "outputs": [],
   "source": []
  }
 ],
 "metadata": {
  "kernelspec": {
   "display_name": "Python 3",
   "language": "python",
   "name": "python3"
  },
  "language_info": {
   "codemirror_mode": {
    "name": "ipython",
    "version": 3
   },
   "file_extension": ".py",
   "mimetype": "text/x-python",
   "name": "python",
   "nbconvert_exporter": "python",
   "pygments_lexer": "ipython3",
   "version": "3.8.3"
  }
 },
 "nbformat": 4,
 "nbformat_minor": 4
}
