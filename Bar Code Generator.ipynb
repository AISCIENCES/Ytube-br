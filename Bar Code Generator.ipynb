{
 "cells": [
  {
   "cell_type": "code",
   "execution_count": 2,
   "metadata": {},
   "outputs": [
    {
     "data": {
      "text/plain": [
       "''"
      ]
     },
     "execution_count": 2,
     "metadata": {},
     "output_type": "execute_result"
    }
   ],
   "source": [
    "import barcode\n",
    "from barcode.writer import ImageWriter\n",
    "from fpdf import FPDF\n",
    "import pandas as pd\n",
    "\n",
    "path_to_csv = r\"C:\\Users\\mg\\Desktop\\Barcode Generater\\test barcodes.csv\"\n",
    "path = r\"C:\\Users\\mg\\Desktop\\Barcode Generater\\Barcodes\" + chr(92)\n",
    "\n",
    "pdf = FPDF('P','mm','A4') # create an A4-size pdf document \n",
    "pdf.set_font('Arial', 'B', 14)\n",
    "pdf.add_page()\n",
    "x,y,w,h = 5,5,50,35\n",
    "Code39 = barcode.get_barcode_class('code128')\n",
    "\n",
    "c = 1\n",
    "\n",
    "\n",
    "df = pd.read_csv(path_to_csv)\n",
    "df.head()\n",
    "\n",
    "for index, row in df.iterrows():\n",
    "    bar_code = row['Product ID']\n",
    "    bar_text = row['Product Name']\n",
    "    \n",
    "    code39 = Code39(bar_code, writer=ImageWriter())\n",
    "    code39.save(path + 'a')    \n",
    "    pdf.image(path + \"a.png\",x,y,w,h)\n",
    "    pdf.text(x+w+20, y+h/2, txt=bar_text)\n",
    "    pdf.rect(x, y, x+w+70, h, style='')\n",
    "    y = y+h+5\n",
    "    \n",
    "    if c%7 == 0:\n",
    "        pdf.add_page()\n",
    "        x,y,w,h = 5,5,50,35\n",
    "    c=c+1\n",
    "    \n",
    "pdf.output(\"Bar Codes.pdf\",\"F\")"
   ]
  },
  {
   "cell_type": "code",
   "execution_count": null,
   "metadata": {},
   "outputs": [],
   "source": []
  },
  {
   "cell_type": "code",
   "execution_count": 1,
   "metadata": {},
   "outputs": [
    {
     "data": {
      "text/plain": [
       "''"
      ]
     },
     "execution_count": 1,
     "metadata": {},
     "output_type": "execute_result"
    }
   ],
   "source": [
    "import barcode\n",
    "from barcode.writer import ImageWriter\n",
    "from fpdf import FPDF\n",
    "import pandas as pd\n",
    "\n",
    "path_to_csv = r\"C:\\Users\\mg\\Desktop\\Barcode Generater\\test barcodes.csv\"\n",
    "path = r\"C:\\Users\\mg\\Desktop\\Barcode Generater\\Barcodes\" + chr(92)\n",
    "\n",
    "pdf = FPDF('P','mm','A4') # create an A4-size pdf document \n",
    "pdf.set_font('Arial', 'B', 14)\n",
    "pdf.add_page()\n",
    "x,y,w,h = 5,5,50,35\n",
    "\n",
    "Code39 = barcode.get_barcode_class('code128')\n",
    "\n",
    "df = pd.read_csv(path_to_csv)\n",
    "df.head()\n",
    "\n",
    "for index, row in df.iterrows():\n",
    "    bar_code = row['Product ID']\n",
    "    \n",
    "    code39 = Code39(bar_code, writer=ImageWriter())\n",
    "    code39.save(path + 'a')    \n",
    "    pdf.image(path + \"a.png\",x,y,w,h)\n",
    "    y = y+h+5 \n",
    "    \n",
    "pdf.output(\"ttttttt.pdf\",\"F\")"
   ]
  },
  {
   "cell_type": "code",
   "execution_count": null,
   "metadata": {},
   "outputs": [],
   "source": []
  }
 ],
 "metadata": {
  "kernelspec": {
   "display_name": "Python 3",
   "language": "python",
   "name": "python3"
  },
  "language_info": {
   "codemirror_mode": {
    "name": "ipython",
    "version": 3
   },
   "file_extension": ".py",
   "mimetype": "text/x-python",
   "name": "python",
   "nbconvert_exporter": "python",
   "pygments_lexer": "ipython3",
   "version": "3.8.3"
  }
 },
 "nbformat": 4,
 "nbformat_minor": 4
}
